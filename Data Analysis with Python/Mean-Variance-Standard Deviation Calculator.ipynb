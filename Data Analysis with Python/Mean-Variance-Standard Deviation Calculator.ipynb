{
 "cells": [
  {
   "cell_type": "markdown",
   "id": "561f2857",
   "metadata": {},
   "source": [
    "### FreeCodeCamp - Data Analysis with Python Project I\n",
    "#### Mean-Variance-Standard Deviation Calculator"
   ]
  },
  {
   "cell_type": "markdown",
   "id": "ec3d98f5",
   "metadata": {},
   "source": [
    "Create a function named `calculate()` that uses Numpy to output the mean, variance, standard deviation, max, min, and sum of the rows, columns, and elements in a 3 x 3 matrix.\n",
    "\n",
    "The input of the function should be a list containing 9 digits. The function should convert the list into a 3 x 3 Numpy array, and then return a dictionary containing the mean, variance, standard deviation, max, min, and sum along both axes and for the flattened matrix.\n",
    "\n",
    "The returned dictionary should follow this format:\n",
    "```python\n",
    "{\n",
    "  'mean': [axis1, axis2, flattened],\n",
    "  'variance': [axis1, axis2, flattened],\n",
    "  'standard deviation': [axis1, axis2, flattened],\n",
    "  'max': [axis1, axis2, flattened],\n",
    "  'min': [axis1, axis2, flattened],\n",
    "  'sum': [axis1, axis2, flattened]\n",
    "}\n",
    "```"
   ]
  },
  {
   "cell_type": "code",
   "execution_count": 1,
   "id": "5ca5d5ff",
   "metadata": {},
   "outputs": [],
   "source": [
    "#import needed packages for the project\n",
    "import numpy as np"
   ]
  },
  {
   "cell_type": "code",
   "execution_count": 2,
   "id": "d9c24f2d",
   "metadata": {},
   "outputs": [],
   "source": [
    "def calculate(list):\n",
    "    if(len(list) != 9):\n",
    "        raise ValueError(\"List must contain nine numbers\")\n",
    "    else:\n",
    "        trulist = np.array(list).reshape(3,3)\n",
    "        return ({\n",
    "            'mean': [np.mean(trulist, axis=0).tolist(), np.mean(trulist, axis=1).tolist(), np.mean(trulist)],\n",
    "            'variance': [np.var(trulist, axis=0).tolist(), np.var(trulist, axis=1).tolist(), np.var(trulist)],\n",
    "            'standard deviation': [np.std(trulist, axis=0).tolist(), np.std(trulist, axis=1).tolist(), np.std(trulist)],\n",
    "            'max': [np.max(trulist, axis=0).tolist(), np.max(trulist, axis=1).tolist(), np.max(trulist)],\n",
    "            'min': [np.min(trulist, axis=0).tolist(), np.min(trulist, axis=1).tolist(), np.min(trulist)],\n",
    "            'sum': [np.sum(trulist, axis=0).tolist(), np.sum(trulist, axis=1).tolist(), np.sum(trulist)]\n",
    "        })"
   ]
  },
  {
   "cell_type": "code",
   "execution_count": 3,
   "id": "bbaeccae",
   "metadata": {},
   "outputs": [
    {
     "name": "stdout",
     "output_type": "stream",
     "text": [
      "{'mean': [[3.0, 4.0, 5.0], [1.0, 4.0, 7.0], 4.0], 'variance': [[6.0, 6.0, 6.0], [0.6666666666666666, 0.6666666666666666, 0.6666666666666666], 6.666666666666667], 'standard deviation': [[2.449489742783178, 2.449489742783178, 2.449489742783178], [0.816496580927726, 0.816496580927726, 0.816496580927726], 2.581988897471611], 'max': [[6, 7, 8], [2, 5, 8], 8], 'min': [[0, 1, 2], [0, 3, 6], 0], 'sum': [[9, 12, 15], [3, 12, 21], 36]}\n"
     ]
    }
   ],
   "source": [
    "print(calculate([0,1,2,3,4,5,6,7,8]))"
   ]
  },
  {
   "cell_type": "markdown",
   "id": "28bda490",
   "metadata": {},
   "source": [
    "##### _Reference_\n",
    "_This project acknowledges the [FreeCodeCamp.org](https://www.freecodecamp.org/) and [Replit](https://replit.com/) platforms the training opportunity_"
   ]
  }
 ],
 "metadata": {
  "kernelspec": {
   "display_name": "Python 3",
   "language": "python",
   "name": "python3"
  },
  "language_info": {
   "codemirror_mode": {
    "name": "ipython",
    "version": 3
   },
   "file_extension": ".py",
   "mimetype": "text/x-python",
   "name": "python",
   "nbconvert_exporter": "python",
   "pygments_lexer": "ipython3",
   "version": "3.8.1"
  }
 },
 "nbformat": 4,
 "nbformat_minor": 5
}
